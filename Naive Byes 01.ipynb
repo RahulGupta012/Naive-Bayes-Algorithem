{
 "cells": [
  {
   "cell_type": "markdown",
   "id": "a62fbff7-e263-49ba-866b-6f107e1d46d7",
   "metadata": {},
   "source": [
    "# Naive Byes Algorithem 01"
   ]
  },
  {
   "cell_type": "markdown",
   "id": "6ccfab48-4925-41a3-9e84-afecadf3271a",
   "metadata": {},
   "source": [
    "_____________________"
   ]
  },
  {
   "cell_type": "markdown",
   "id": "df25eff6-af33-4539-a3ce-8b31fb073a2d",
   "metadata": {},
   "source": [
    "# Q1. What is Bayes' theorem?"
   ]
  },
  {
   "cell_type": "markdown",
   "id": "fb5d87d0-c393-471a-b95b-fe01bfb8d110",
   "metadata": {},
   "source": [
    "**Q2. What is the formula for Bayes' theorem?**\n",
    "\n",
    "**Q3. How is Bayes' theorem used in practice?**"
   ]
  },
  {
   "attachments": {
    "6dbfc128-cae6-4cec-a90d-939282d70956.PNG": {
     "image/png": "[encoded data removed]"
    }
   },
   "cell_type": "markdown",
   "id": "3b7d0fc0-272d-436c-a184-f9db946418b0",
   "metadata": {},
   "source": [
    "Bayes theorem is a concept of statistics , which is used for finding the probabilty of new occuring event. As our work is also to find the outputs (new occuring elements) from the input data, so it is helpful for us to predict the model outputs. It can be solve both binary and polynomial classification problems. It can be easily drived by the conditional probability. \n",
    "\n",
    "![Bayes Theorm.PNG](attachment:6dbfc128-cae6-4cec-a90d-939282d70956.PNG)\n",
    "\n",
    "where,\n",
    "- P(A∣B) is the probability of event A occurring given that B has occurred .\n",
    "- P(B∣A) is the probability of event B occurring given that A has occurred .\n",
    "- P(A) is the prior probability of event A.\n",
    "- P(B) is the prior probability of event B."
   ]
  },
  {
   "cell_type": "markdown",
   "id": "878b27da-5403-44dd-87e9-bbd6b3616c4e",
   "metadata": {},
   "source": [
    "# Q4. What is the relationship between Bayes' theorem and conditional probability?"
   ]
  },
  {
   "attachments": {
    "a554ae7f-d1df-464e-893b-4938a146c676.PNG": {
     "image/png": "[encoded data removed]"
    }
   },
   "cell_type": "markdown",
   "id": "0c888042-b947-4d65-8deb-4a71d6e40bb5",
   "metadata": {},
   "source": [
    "**Conditional probability** is nothing but the probability of event A occurring given that event B has occurred.For Example if we have a bucket in which , there are 5 mangoes and 4 apples. and we want to know the probability of picking first mango then a apple. so\n",
    "\n",
    "first event : pr(mango)= 5/9 (Where 9 is the total number of outcomes ; total fruits in bucket)\n",
    "\n",
    "Second event : pr(apple) = 4/8\n",
    "\n",
    "- Conditional Probability : Pr(mango and orange) = Pr(mango) * Pr(apple/mango)\n",
    "-                                               = 5/9 * 4/8\n",
    "-                                                = 5/18\n",
    "\n",
    "it means Pr(A and B)= Pr(A) * Pr(B/A)\n",
    "\n",
    "**Relationship**\n",
    "\n",
    "if we equate the conditional probability and Reverse Conditional Probability\n",
    "\n",
    "Pr(A and B) = Pr(B and A)\n",
    "\n",
    "then We got\n",
    "\n",
    "![Bayes Theorm.PNG](attachment:a554ae7f-d1df-464e-893b-4938a146c676.PNG)\n",
    "\n",
    "Which is nothing but the Bayes therom.\n"
   ]
  },
  {
   "cell_type": "markdown",
   "id": "daa72a73-9f4b-4d07-9a1a-88aec373f48a",
   "metadata": {},
   "source": [
    "# Q5. How do you choose which type of Naive Bayes classifier to use for any given problem?"
   ]
  },
  {
   "cell_type": "markdown",
   "id": "ad8c7ef9-bb1f-4631-9166-5ca4f9801309",
   "metadata": {},
   "source": [
    "There are some varients of Naive Bayes , which are used according to certain conditions of datset.\n",
    "\n",
    "**1. Burnoulli Naive Bayes :** We use Burnoulli Naive Bayes when whenever our features shows Burnoulli Distribution ; the values are in the binary form ethier 0 or 1.\n",
    "\n",
    "**2. Multinomial Naive Bayes :** We use Multinomial Naive Bayes , when the input feature of the dataset are test related and by this text, we predict the output as in the case of reviews analysis we are predicting that comment is postive or negative by the text.\n",
    "\n",
    "**3. Gaussian Naive Bayes :** if independent features of our dataset are following Gaussian Distribution (well curved) then we use this varient of Naive Bayes."
   ]
  },
  {
   "cell_type": "markdown",
   "id": "f580cbf4-0f89-412a-9521-bdb2d54da1da",
   "metadata": {},
   "source": [
    "# Q6. Assignment:\n",
    "***&You have a dataset with two features, X1 and X2, and two possible classes, A and B. You want to use Naive Bayes to classify a new instance with features X1 = 3 and X2 = 4. The following table shows the frequency of each feature value for each class:\n",
    "Class X1=1 X1=2 X1=3 X2=1 X2=2 X2=3 X2=4\n",
    "A 3 3 4 4 3 3 3\n",
    "B 2 2 1 2 2 2 3\n",
    "Assuming equal prior probabilities for each class, which class would Naive Bayes predict the new instance to belong to?***"
   ]
  },
  {
   "cell_type": "markdown",
   "id": "e23ca672-8a7b-49f9-a497-fb73b2998a4f",
   "metadata": {},
   "source": [
    "**ANSWER**\n",
    "\n",
    "- Here we are going to calculate the probability of A in class X1= 3 and X2=4 which is 12/200. \n",
    "- and when we are going to calculate the prob of B in class X1= 3 and X2=4 , It comes 2/50\n",
    "\n",
    "as it is clear now that probability of A in class X1= 3 and X2=4 is grater than the prob of B in class X1= 3 and X2=4 so the **feature X1=3 X2=4 are beloging in class A**."
   ]
  },
  {
   "cell_type": "code",
   "execution_count": null,
   "id": "8f691893-5e6d-4a61-bf62-eab6d4885fc5",
   "metadata": {},
   "outputs": [],
   "source": []
  }
 ],
 "metadata": {
  "kernelspec": {
   "display_name": "Python 3 (ipykernel)",
   "language": "python",
   "name": "python3"
  },
  "language_info": {
   "codemirror_mode": {
    "name": "ipython",
    "version": 3
   },
   "file_extension": ".py",
   "mimetype": "text/x-python",
   "name": "python",
   "nbconvert_exporter": "python",
   "pygments_lexer": "ipython3",
   "version": "3.10.8"
  }
 },
 "nbformat": 4,
 "nbformat_minor": 5
}
